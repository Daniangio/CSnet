{
 "cells": [
  {
   "cell_type": "code",
   "execution_count": null,
   "metadata": {},
   "outputs": [],
   "source": [
    "import requests\n",
    "from bs4 import BeautifulSoup\n",
    "import csv\n",
    "\n",
    "# Function to extract data from HTML\n",
    "def extract_data_from_html(html_content):\n",
    "    soup = BeautifulSoup(html_content, 'html.parser')\n",
    "    rows = soup.find_all('tr')[1:]  # Skip the header row\n",
    "    data = []\n",
    "\n",
    "    for row in rows:\n",
    "        cols = row.find_all('td')\n",
    "        pdb_file = cols[3].find('a').text.strip()\n",
    "        if len(pdb_file) == 0:\n",
    "            continue\n",
    "        pdb_file, chainid = pdb_file[:-1], pdb_file[-1:]\n",
    "        bmr_file = cols[5].find('a').text.strip()\n",
    "        data.append([pdb_file, bmr_file, chainid])\n",
    "\n",
    "    return data\n",
    "\n",
    "# Function to write data to CSV\n",
    "def write_to_csv(data, filename):\n",
    "    with open(filename, 'w', newline='') as file:\n",
    "        writer = csv.writer(file)\n",
    "        writer.writerow(['pdb', 'nmr', 'chainid'])\n",
    "        writer.writerows(data)\n",
    "\n",
    "# Fetch HTML content from URL\n",
    "url = 'https://refdb.wishartlab.com/bmrpdbnew.html'\n",
    "\n",
    "# Write data to CSV\n",
    "response = requests.get(url, verify=False)\n",
    "html_content = response.text\n",
    "\n",
    "# Extract data from HTML\n",
    "data = extract_data_from_html(html_content)\n",
    "\n",
    "# Write data to CSV\n",
    "write_to_csv(data, 'output.csv')"
   ]
  }
 ],
 "metadata": {
  "kernelspec": {
   "display_name": "base",
   "language": "python",
   "name": "python3"
  },
  "language_info": {
   "codemirror_mode": {
    "name": "ipython",
    "version": 3
   },
   "file_extension": ".py",
   "mimetype": "text/x-python",
   "name": "python",
   "nbconvert_exporter": "python",
   "pygments_lexer": "ipython3",
   "version": "3.9.13"
  }
 },
 "nbformat": 4,
 "nbformat_minor": 2
}
