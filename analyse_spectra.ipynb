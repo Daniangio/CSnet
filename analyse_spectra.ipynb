{
 "cells": [
  {
   "cell_type": "code",
   "execution_count": null,
   "metadata": {},
   "outputs": [],
   "source": [
    "import pandas as pd\n",
    "from plot_distributions import plot_distributions\n",
    "fname1 = '/scratch/angiod/CSNet/test/beta2/BMRB.ensemble/APO.inactive/MET.CE.HE.dspp.with.Beta2.bigger.logs/20250227-105004/out.csv'\n",
    "fname2 = '/scratch/angiod/CSNet/test/beta2/BMRB.ensemble/APO.inactive/MET.HE.dspp.lite.logs/20250227-130335/out.csv'\n",
    "df1 = pd.read_csv(fname1)\n",
    "df2 = pd.read_csv(fname2)\n",
    "#plot_distributions(df2, df1, atom_types=[12, 7], xlim=(2.4,1.4), ylim=(19.5, 16), offset=28, figname=fname1.replace('out.csv', 'distribution.png'))\n",
    "#plot_distributions(df1, atom_types=[7], offset=28, figname=fname1.replace('out.csv', 'distribution.CE.png'))\n",
    "plot_distributions(df2, atom_types=[12], offset=28, figname=fname2.replace('out.csv', 'distribution.HE.png'))"
   ]
  }
 ],
 "metadata": {
  "kernelspec": {
   "display_name": "csnet",
   "language": "python",
   "name": "python3"
  },
  "language_info": {
   "codemirror_mode": {
    "name": "ipython",
    "version": 3
   },
   "file_extension": ".py",
   "mimetype": "text/x-python",
   "name": "python",
   "nbconvert_exporter": "python",
   "pygments_lexer": "ipython3",
   "version": "3.10.12"
  }
 },
 "nbformat": 4,
 "nbformat_minor": 2
}
