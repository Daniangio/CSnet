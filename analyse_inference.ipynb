{
 "cells": [
  {
   "cell_type": "code",
   "execution_count": 1,
   "metadata": {},
   "outputs": [],
   "source": [
    "import numpy as np\n",
    "import pandas as pd\n",
    "import matplotlib.pyplot as plt\n",
    "import MDAnalysis as mda"
   ]
  },
  {
   "cell_type": "code",
   "execution_count": null,
   "metadata": {},
   "outputs": [],
   "source": [
    "# Read the CSV file\n",
    "df = pd.read_csv('/storage_common/angiod/CSNet/test/bmrb/MET.logs/20250115-110615/out.csv')\n",
    "\n",
    "# Read the CSV file\n",
    "df['ref'] = pd.to_numeric(df['ref'], errors='coerce')\n",
    "df = df.dropna(subset=['ref'])\n",
    "\n",
    "# Filter by node_type\n",
    "node_type = 7\n",
    "filtered_df = df[df['node_type'] == node_type].reset_index(drop=True)\n",
    "\n",
    "# Plot distributions\n",
    "plt.figure(figsize=(10, 5))\n",
    "\n",
    "# Plot pred distribution\n",
    "filtered_df['pred'].plot(kind='kde', alpha=0.8, color='blue', label='pred')\n",
    "# Plot ref distribution\n",
    "filtered_df['ref'].plot(kind='kde', alpha=0.8, color='orange', label='ref')\n",
    "\n",
    "plt.xlim([13., 20.])"
   ]
  },
  {
   "cell_type": "code",
   "execution_count": null,
   "metadata": {},
   "outputs": [],
   "source": [
    "filtered_df['ref'][filtered_df['ref'] > 20]"
   ]
  },
  {
   "cell_type": "code",
   "execution_count": 15,
   "metadata": {},
   "outputs": [],
   "source": [
    "# Read the CSV file\n",
    "pred_df = pd.read_csv('/storage_common/angiod/CSNet/test/bmrb/MET.logs/20250115-110615/out.csv')\n",
    "# Read the CSV file\n",
    "pred_df['ref'] = pd.to_numeric(pred_df['ref'], errors='coerce')\n",
    "pred_df = pred_df.dropna(subset=['ref'])\n",
    "# Filter by node_type\n",
    "node_type = 7\n",
    "pred_df = pred_df[pred_df['node_type'] == node_type].reset_index(drop=True)\n",
    "# Read the CSV file\n",
    "ref_df = pd.read_csv('/storage_common/angiod/nmr/bmrb/dataset_info.csv', index_col=0)\n",
    "ref_df = ref_df[ref_df['RESNAME'] == 'MET']"
   ]
  },
  {
   "cell_type": "code",
   "execution_count": null,
   "metadata": {},
   "outputs": [],
   "source": [
    "pred_df['pred'].plot(kind='kde', alpha=0.8, color='blue', label='pred')\n",
    "# pred_df['ref'].plot(kind='kde', alpha=0.8, color='red', label='ref')\n",
    "ref_df['CE'].plot(kind='kde', alpha=0.8, color='red', label='ref')\n",
    "plt.legend()"
   ]
  },
  {
   "cell_type": "code",
   "execution_count": null,
   "metadata": {},
   "outputs": [],
   "source": [
    "len(pred_df['pred'][pred_df['pred']>18])"
   ]
  },
  {
   "cell_type": "code",
   "execution_count": null,
   "metadata": {},
   "outputs": [],
   "source": [
    "len(ref_df['CE'][ref_df['CE']>18])"
   ]
  }
 ],
 "metadata": {
  "kernelspec": {
   "display_name": "csnet",
   "language": "python",
   "name": "python3"
  },
  "language_info": {
   "codemirror_mode": {
    "name": "ipython",
    "version": 3
   },
   "file_extension": ".py",
   "mimetype": "text/x-python",
   "name": "python",
   "nbconvert_exporter": "python",
   "pygments_lexer": "ipython3",
   "version": "3.10.12"
  }
 },
 "nbformat": 4,
 "nbformat_minor": 2
}
