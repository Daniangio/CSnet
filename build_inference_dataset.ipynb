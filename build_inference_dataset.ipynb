{
 "cells": [
  {
   "cell_type": "code",
   "execution_count": 1,
   "metadata": {},
   "outputs": [],
   "source": [
    "%reload_ext autoreload\n",
    "%autoreload 2"
   ]
  },
  {
   "cell_type": "code",
   "execution_count": null,
   "metadata": {},
   "outputs": [],
   "source": [
    "# Usage Example\n",
    "if __name__ == \"__main__\":\n",
    "    # Define the path to your YAML config\n",
    "    config_file = \"/storage_common/angiod/nmr/data/atom_type_config.protein+nucleotide.yaml\"\n",
    "    atom_type_map = \"/storage_common/angiod/nmr/bmrb/atom_type_map.yaml\"\n",
    "\n",
    "    data_root = '/storage_common/angiod/nmr/beta2/carazolo.inactive/'\n",
    "    topology = '/storage_common/angiod/MDSimulations/Chiara/beta2.carazolo.inactive/protein_inactive_CAU_4GBR.gro'\n",
    "    traj = ['/storage_common/angiod/MDSimulations/Chiara/beta2.carazolo.inactive/protein_inactive_CAU_4GBR.xtc']\n",
    "    slicing = slice(0, None, 5)\n",
    "\n",
    "    # Initialize the NMRDataset with the config file\n",
    "    from csnet.utils.dataset import NMRDatasetBuilder\n",
    "    dataset_builder = NMRDatasetBuilder(config_file, atom_type_map)\n",
    "\n",
    "    pdb = dataset_builder.build_inference(topology=topology, traj=traj, slicing=slicing, ph=7.0, temperature=298., data_root=data_root)"
   ]
  },
  {
   "cell_type": "code",
   "execution_count": null,
   "metadata": {},
   "outputs": [],
   "source": [
    "for k, v in pdb.items():\n",
    "    try:\n",
    "        print(k, v.shape)\n",
    "    except:\n",
    "        print(k, v)"
   ]
  }
 ],
 "metadata": {
  "kernelspec": {
   "display_name": "csnet",
   "language": "python",
   "name": "python3"
  },
  "language_info": {
   "codemirror_mode": {
    "name": "ipython",
    "version": 3
   },
   "file_extension": ".py",
   "mimetype": "text/x-python",
   "name": "python",
   "nbconvert_exporter": "python",
   "pygments_lexer": "ipython3",
   "version": "3.10.12"
  }
 },
 "nbformat": 4,
 "nbformat_minor": 2
}
