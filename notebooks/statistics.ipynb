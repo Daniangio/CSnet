{
 "cells": [
  {
   "cell_type": "code",
   "execution_count": 1,
   "metadata": {},
   "outputs": [],
   "source": [
    "%load_ext autoreload\n",
    "%autoreload 2"
   ]
  },
  {
   "cell_type": "code",
   "execution_count": 2,
   "metadata": {},
   "outputs": [],
   "source": [
    "from csnet.training.statistics import get_npz_statistics, build_config_params, plot_distribution"
   ]
  },
  {
   "cell_type": "code",
   "execution_count": 3,
   "metadata": {},
   "outputs": [
    {
     "name": "stdout",
     "output_type": "stream",
     "text": [
      "197\n"
     ]
    }
   ],
   "source": [
    "NPZ_FOLDER = \"/storage_common/angiod/NMR/SHIFTX2/npz/train/\"\n",
    "# NPZ_FOLDER = \"../inference/\"\n",
    "FEAT = \"chemical_shifts\"\n",
    "FEAT_PRED = \"chemical_shifts_pred\"\n",
    "TYPE = \"atom_types\"\n",
    "\n",
    "statistics = get_npz_statistics(NPZ_FOLDER, FEAT, TYPE)\n",
    "# statistics_pred = get_npz_statistics(NPZ_FOLDER, FEAT_PRED, TYPE)"
   ]
  },
  {
   "cell_type": "code",
   "execution_count": null,
   "metadata": {},
   "outputs": [],
   "source": [
    "resnames = ['ALA', 'ARG', 'ASN', 'ASP', 'CYS', 'CYX', 'GLN', 'GLU',\n",
    "            'GLY', 'HID', 'HIE', 'HIS', 'ILE', 'LEU', 'LYS', 'MET',\n",
    "            'PHE', 'PRO', 'SER', 'THR', 'TRP', 'TYR', 'VAL']\n",
    "atomname = 'CA'\n",
    "\n",
    "for resname in resnames:\n",
    "    plot_distribution(statistics, resname, atomname)\n",
    "    # plot_distribution(statistics_pred, resname, atomname, src='pred')"
   ]
  },
  {
   "cell_type": "code",
   "execution_count": null,
   "metadata": {},
   "outputs": [],
   "source": [
    "# - Build type_names.yaml and per_type_bias.yaml files - #\n",
    "\n",
    "CONFIG_ROOT = '../config'\n",
    "build_config_params(statistics, CONFIG_ROOT)\n",
    "\n",
    "# ------------------------------------------------------ #"
   ]
  }
 ],
 "metadata": {
  "kernelspec": {
   "display_name": "venv39",
   "language": "python",
   "name": "python3"
  },
  "language_info": {
   "codemirror_mode": {
    "name": "ipython",
    "version": 3
   },
   "file_extension": ".py",
   "mimetype": "text/x-python",
   "name": "python",
   "nbconvert_exporter": "python",
   "pygments_lexer": "ipython3",
   "version": "3.10.12"
  },
  "orig_nbformat": 4,
  "vscode": {
   "interpreter": {
    "hash": "97434c0b8a955935c9dc8565b9e78fa3a1f82735a98007c62bf1e2fa0fe793d9"
   }
  }
 },
 "nbformat": 4,
 "nbformat_minor": 2
}
