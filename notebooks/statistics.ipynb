{
 "cells": [
  {
   "cell_type": "code",
   "execution_count": 1,
   "metadata": {},
   "outputs": [],
   "source": [
    "%load_ext autoreload\n",
    "%autoreload 2"
   ]
  },
  {
   "cell_type": "code",
   "execution_count": null,
   "metadata": {},
   "outputs": [],
   "source": [
    "# Usage Example\n",
    "if __name__ == \"__main__\":\n",
    "    # Define the path to your YAML config\n",
    "    config_file = \"/storage_common/angiod/nmr/data/atom_type_config.protein+nucleotide.yaml\"\n",
    "\n",
    "    # Initialize the NMRDataset with the config file\n",
    "    from csnet.utils.dataset import NMRDatasetBuilder\n",
    "    dataset_builder = NMRDatasetBuilder(config_file)\n",
    "\n",
    "    data_root = '/storage_common/angiod/nmr/bmrb'\n",
    "\n",
    "    dataset_builder.build_statistics(data_root=data_root)\n",
    "    dataset_builder.extract_outliers()"
   ]
  },
  {
   "cell_type": "code",
   "execution_count": null,
   "metadata": {},
   "outputs": [],
   "source": [
    "dataset_builder.outliers"
   ]
  },
  {
   "cell_type": "code",
   "execution_count": null,
   "metadata": {},
   "outputs": [],
   "source": [
    "resnames = ['ALA', 'ARG', 'ASN', 'ASP', 'CYS', 'CYX', 'GLN', 'GLU',\n",
    "            'GLY', 'HID', 'HIE', 'HIS', 'ILE', 'LEU', 'LYS', 'MET',\n",
    "            'PHE', 'PRO', 'SER', 'THR', 'TRP', 'TYR', 'VAL']\n",
    "# resnames = ['A', 'G', 'U', 'C']\n",
    "# Either provide atomnames OR note_types\n",
    "resnames = [\"MET\"]\n",
    "atomnames = [\"CE\"]\n",
    "dataset_builder.plot_distribution(resnames, atomnames)"
   ]
  },
  {
   "cell_type": "code",
   "execution_count": 114,
   "metadata": {},
   "outputs": [],
   "source": [
    "import numpy as np\n",
    "\n",
    "ds = np.load('/storage_common/angiod/nmr/delete/npz/6E83.30501.npz')"
   ]
  },
  {
   "cell_type": "code",
   "execution_count": null,
   "metadata": {},
   "outputs": [],
   "source": [
    "for k,v in ds.items():\n",
    "    print(k, v.shape)"
   ]
  },
  {
   "cell_type": "code",
   "execution_count": 116,
   "metadata": {},
   "outputs": [],
   "source": [
    "af = ds['atom_fullnames']\n",
    "ar = ds['atom_resnumbers']\n",
    "cs = ds['chemical_shifts']"
   ]
  }
 ],
 "metadata": {
  "kernelspec": {
   "display_name": "csnet",
   "language": "python",
   "name": "python3"
  },
  "language_info": {
   "codemirror_mode": {
    "name": "ipython",
    "version": 3
   },
   "file_extension": ".py",
   "mimetype": "text/x-python",
   "name": "python",
   "nbconvert_exporter": "python",
   "pygments_lexer": "ipython3",
   "version": "3.10.12"
  },
  "orig_nbformat": 4
 },
 "nbformat": 4,
 "nbformat_minor": 2
}
