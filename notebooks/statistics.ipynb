{
 "cells": [
  {
   "cell_type": "code",
   "execution_count": 1,
   "metadata": {},
   "outputs": [],
   "source": [
    "%load_ext autoreload\n",
    "%autoreload 2"
   ]
  },
  {
   "cell_type": "code",
   "execution_count": 2,
   "metadata": {},
   "outputs": [],
   "source": [
    "from csnet.training.statistics import get_npz_statistics, build_config_params, plot_distribution"
   ]
  },
  {
   "cell_type": "code",
   "execution_count": 10,
   "metadata": {},
   "outputs": [
    {
     "name": "stdout",
     "output_type": "stream",
     "text": [
      "Starting analysis...\n",
      "2000 files analysed.\n",
      "Computing statistics...\n",
      "Completed!\n"
     ]
    }
   ],
   "source": [
    "# NPZ_FOLDER = \"/storage_common/angiod/NMR/RNA/npz/test.single.atomname.at\"\n",
    "NPZ_FOLDER = \"/storage_common/angiod/NMR/DFT/npz.nopbc/train/\"\n",
    "FEAT = \"cs\" # \"chemical_shifts\"\n",
    "TYPE = \"node_type\" # \"atom_types\"\n",
    "\n",
    "statistics = get_npz_statistics(NPZ_FOLDER, FEAT, TYPE)\n",
    "# FEAT_PRED = \"chemical_shifts_pred\"\n",
    "# statistics_pred = get_npz_statistics(NPZ_FOLDER, FEAT_PRED, TYPE)"
   ]
  },
  {
   "cell_type": "code",
   "execution_count": null,
   "metadata": {},
   "outputs": [],
   "source": [
    "resnames = ['ALA', 'ARG', 'ASN', 'ASP', 'CYS', 'CYX', 'GLN', 'GLU',\n",
    "            'GLY', 'HID', 'HIE', 'HIS', 'ILE', 'LEU', 'LYS', 'MET',\n",
    "            'PHE', 'PRO', 'SER', 'THR', 'TRP', 'TYR', 'VAL']\n",
    "# resnames = ['A', 'G', 'U', 'C']\n",
    "atomname = \"CE\"\n",
    "\n",
    "for resname in resnames:\n",
    "    plot_distribution(statistics, resname, atomname, index=None, method='reduced')\n",
    "    # plot_distribution(statistics_pred, resname, atomname, src='pred')"
   ]
  },
  {
   "cell_type": "code",
   "execution_count": 17,
   "metadata": {},
   "outputs": [
    {
     "name": "stdout",
     "output_type": "stream",
     "text": [
      "1 25.227781856670106 3.6133334356471156\n",
      "6 58.59909668901077 53.47351617703107\n",
      "7 -9.911044003115265 118.08327021373404\n",
      "8 -63.65153026928528 197.93187914065766\n"
     ]
    }
   ],
   "source": [
    "for k, v in statistics.items():\n",
    "    print(k, v.value.mean(), v.value.std())"
   ]
  },
  {
   "cell_type": "code",
   "execution_count": 23,
   "metadata": {},
   "outputs": [
    {
     "data": {
      "text/plain": [
       "(array([  42.,  206., 3845., 2170., 3536., 3938., 3376., 2717., 1983.,\n",
       "        2882.]),\n",
       " array([-567.39 , -479.305, -391.22 , -303.135, -215.05 , -126.965,\n",
       "         -38.88 ,   49.205,  137.29 ,  225.375,  313.46 ]),\n",
       " <BarContainer object of 10 artists>)"
      ]
     },
     "execution_count": 23,
     "metadata": {},
     "output_type": "execute_result"
    },
    {
     "data": {
      "image/png": "[encoded data removed]",
      "text/plain": [
       "<Figure size 640x480 with 1 Axes>"
      ]
     },
     "metadata": {},
     "output_type": "display_data"
    }
   ],
   "source": [
    "from matplotlib import pyplot as plt\n",
    "plt.hist(statistics[8].value.values)"
   ]
  },
  {
   "cell_type": "markdown",
   "metadata": {},
   "source": [
    "# Remove Outlayers #"
   ]
  },
  {
   "cell_type": "code",
   "execution_count": null,
   "metadata": {},
   "outputs": [],
   "source": [
    "import os\n",
    "import glob\n",
    "import shutil\n",
    "import numpy as np\n",
    "\n",
    "NPZ_FOLDER = \"/storage_common/angiod/NMR/UCBShift/npz/reduced_atom_type/train_bmrb\"\n",
    "NPZ_OUT_FOLDER = \"/storage_common/angiod/NMR/UCBShift/npz/reduced_atom_type/train_bmrb_clean\"\n",
    "\n",
    "outlayers = [\n",
    "    # /storage_common/angiod/NMR/UCBShift/npz/reduced_atom_type/train\n",
    "    ('1OSPO', 'CE', 'LYS', 117),\n",
    "    ('1OSPO', 'CE', 'LYS', 269),\n",
    "    ('2ESPA', 'CE', 'LYS', 4),\n",
    "    ('2ITLA', 'CE', 'LYS', 253),\n",
    "    ('1Y2GB', 'CE', 'MET', 74),\n",
    "    ('1HFCA', 'CE', 'MET', 160),\n",
    "    ('1HFCA', 'CE', 'MET', 236),\n",
    "    # /storage_common/angiod/NMR/UCBShift/npz/reduced_atom_type/test\n",
    "    ('1XIOA', 'CE', 'LYS', 210),\n",
    "    # /storage_common/angiod/NMR/UCBShift/npz/reduced_atom_type/train_bmrb\n",
    "    ('2n4u', 'CE', 'LYS', 459),\n",
    "    ('2nbv', 'CE', 'LYS', 31),\n",
    "    ('2k7z', 'CE', 'LYS', 246),\n",
    "    ('2k6q', 'CE', 'LYS', 344),\n",
    "    ('2mpn', 'CE', 'MET', 113),\n",
    "    ('2mpn', 'CE', 'MET', 160),\n",
    "    ('2mpn', 'CE', 'MET', 167),\n",
    "    ('5w3g', 'CE', 'MET', 230),\n",
    "]\n",
    "\n",
    "index = None\n",
    "method = 'reduced'\n",
    "\n",
    "for outlayer in outlayers:\n",
    "    \n",
    "    filename, atomname, resname, resnumber = outlayer\n",
    "    \n",
    "    _filename = os.path.join(NPZ_OUT_FOLDER, f\"{filename}.npz\")\n",
    "    if not os.path.isfile(_filename):\n",
    "        _filename = os.path.join(NPZ_FOLDER, f\"{filename}.npz\")\n",
    "    try:\n",
    "        ds = dict(np.load(_filename, allow_pickle=True))\n",
    "    except:\n",
    "        continue\n",
    "\n",
    "    atomname_fltr = ds['atom_names'] == atomname\n",
    "    resname_fltr = ds['atom_resnames'] == resname\n",
    "    resnumber_fltr = ds['atom_resnumbers'] == int(resnumber)\n",
    "    fltr = atomname_fltr * resname_fltr * resnumber_fltr\n",
    "\n",
    "    if sum(fltr) == 1:\n",
    "        ds['chemical_shifts'][:, fltr] = np.nan\n",
    "    else:\n",
    "        print(f\"{filename} has {sum(fltr)} matches\")\n",
    "        ds['chemical_shifts'][:, fltr] = np.nan\n",
    "\n",
    "    os.makedirs(NPZ_OUT_FOLDER, exist_ok=True)\n",
    "    _out_filename = os.path.join(NPZ_OUT_FOLDER, f\"{filename}.npz\")\n",
    "    np.savez(_out_filename, **ds)\n",
    "    print(f\"File {_out_filename} saved!\")\n",
    "\n",
    "# for filename in glob.glob(os.path.join(NPZ_FOLDER, \"*.npz\")):\n",
    "#     out_filename = filename.replace(NPZ_FOLDER, NPZ_OUT_FOLDER)\n",
    "#     if os.path.isfile(out_filename):\n",
    "#         continue\n",
    "#     shutil.copyfile(filename, out_filename)"
   ]
  },
  {
   "cell_type": "markdown",
   "metadata": {},
   "source": [
    "#  Build Per-Type stats Config File #"
   ]
  },
  {
   "cell_type": "code",
   "execution_count": null,
   "metadata": {},
   "outputs": [],
   "source": [
    "# - Build type_names.yaml and per_type_bias.yaml files - #\n",
    "\n",
    "CONFIG_ROOT = '../config/training/RNA'\n",
    "CONFIG_NAME = 'atomname.pertype.stats.yaml'\n",
    "\n",
    "type_names = None\n",
    "type_names = [\n",
    "\"A.H1'\",\n",
    "\"A.H2\" ,\n",
    "\"A.H2'\",\n",
    "\"A.H61\",\n",
    "\"A.H62\",\n",
    "\"A.H8\",\n",
    "\"A.HO2'\",\n",
    "\"A.C1'\",\n",
    "\"A.C2\",\n",
    "\"A.C2'\",\n",
    "\"A.C3'\",\n",
    "\"A.C4\",\n",
    "\"A.C4'\",\n",
    "\"A.C5\",\n",
    "\"A.C5'\",\n",
    "\"A.C6\",\n",
    "\"A.C8\",\n",
    "\"A.N1\",\n",
    "\"A.N3\",\n",
    "\"A.N6\",\n",
    "\"A.N7\",\n",
    "\"A.N9\",\n",
    "\"A.O2'\",\n",
    "\"A.P\" ,\n",
    "\"C.H41\",\n",
    "\"C.H42\",\n",
    "\"C.H5\",\n",
    "\"C.C4\",\n",
    "\"C.C5\",\n",
    "\"C.C6\",\n",
    "\"C.N1\",\n",
    "\"C.N3\",\n",
    "\"C.N4\",\n",
    "\"G.H1\",\n",
    "\"G.N2\",\n",
    "\"G.N3\"\n",
    "]\n",
    "type_names = [\n",
    "\"H1\",\n",
    "\"H1'\",\n",
    "\"H2\",\n",
    "\"H2'\",\n",
    "\"H3\",\n",
    "\"H3'\",\n",
    "\"H41\",\n",
    "\"H42\",\n",
    "\"H4'\",\n",
    "\"H5\",\n",
    "\"H5'\",\n",
    "\"H5''\",\n",
    "\"H6\",\n",
    "\"H61\",\n",
    "\"H62\",\n",
    "\"H8\",\n",
    "\"HO2'\",\n",
    "\"C1'\",\n",
    "\"C2\",\n",
    "\"C2'\",\n",
    "\"C3'\",\n",
    "\"C4\",\n",
    "\"C4'\",\n",
    "\"C5\",\n",
    "\"C5'\",\n",
    "\"C6\",\n",
    "\"C8\",\n",
    "\"N1\",\n",
    "\"N2\",\n",
    "\"N3\",\n",
    "\"N4\",\n",
    "\"N6\",\n",
    "\"N7\",\n",
    "\"N9\",\n",
    "\"O\",\n",
    "\"P\", \n",
    "]\n",
    "build_config_params(statistics, CONFIG_ROOT, confname=CONFIG_NAME, type_names=type_names, method='reduced')\n",
    "\n",
    "# ------------------------------------------------------ #"
   ]
  }
 ],
 "metadata": {
  "kernelspec": {
   "display_name": "csnet",
   "language": "python",
   "name": "python3"
  },
  "language_info": {
   "codemirror_mode": {
    "name": "ipython",
    "version": 3
   },
   "file_extension": ".py",
   "mimetype": "text/x-python",
   "name": "python",
   "nbconvert_exporter": "python",
   "pygments_lexer": "ipython3",
   "version": "3.10.12"
  },
  "orig_nbformat": 4
 },
 "nbformat": 4,
 "nbformat_minor": 2
}
