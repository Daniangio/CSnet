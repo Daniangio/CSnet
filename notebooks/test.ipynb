{
 "cells": [
  {
   "cell_type": "code",
   "execution_count": null,
   "metadata": {},
   "outputs": [],
   "source": [
    "%reload_ext autoreload\n",
    "%autoreload 2"
   ]
  },
  {
   "cell_type": "code",
   "execution_count": null,
   "metadata": {},
   "outputs": [],
   "source": [
    "import torch\n",
    "import numpy as np\n",
    "from csnet.training.dataset import run_inference\n",
    "\n",
    "torch.set_default_dtype(torch.float32)"
   ]
  },
  {
   "cell_type": "code",
   "execution_count": null,
   "metadata": {},
   "outputs": [],
   "source": [
    "model_path = \"/home/angiod@usi.ch/CSnet/results/SHIFTX2/production-carbons/best_model.pth\"\n",
    "test_regex = \"/storage_common/angiod/NMR/SHIFTX2/npz/test/*.npz\"\n",
    "device = \"cuda:2\""
   ]
  },
  {
   "cell_type": "code",
   "execution_count": null,
   "metadata": {},
   "outputs": [],
   "source": [
    "run_inference(\n",
    "    model_path=model_path,\n",
    "    test_regex=test_regex,\n",
    "    device=device,\n",
    "    output_dir='../inference',\n",
    ")"
   ]
  },
  {
   "cell_type": "code",
   "execution_count": null,
   "metadata": {},
   "outputs": [],
   "source": [
    "import numpy as np\n",
    "import glob\n",
    "from plot import plot_violin, plot_distribution, plot_violindist, plot_inference\n",
    "\n",
    "atoms_filters = ['*_HE_*', '*_HE1_*', '*_HE2_*']\n",
    "\n",
    "for atoms_filter in atoms_filters:\n",
    "    errors = []\n",
    "    for filename in glob.glob('../inference/*.npz'):\n",
    "        dataset = np.load(filename, allow_pickle=True)\n",
    "        fltr = np.all(~np.isnan(dataset[\"chemical_shifts\"]), axis=0)\n",
    "        res_fltr, atom_fltr, resid_fltr = atoms_filter.split('_')\n",
    "        if res_fltr != '*':\n",
    "            fltr = fltr * np.isin(dataset['atom_resnames'], res_fltr.split('-'))\n",
    "        if atom_fltr != '*':\n",
    "            fltr = fltr * np.isin(dataset['atom_names'].flatten(), atom_fltr.split('-'))\n",
    "        if resid_fltr != '*':\n",
    "            fltr = fltr * np.isin(dataset['atom_resnumbers'], [int(x) for x in resid_fltr.split('-')])\n",
    "        atom_names = dataset['atom_fullnames'][fltr]\n",
    "\n",
    "        chemical_shifts      = dataset[\"chemical_shifts\"][:, fltr]\n",
    "        chemical_shifts_pred = dataset[\"chemical_shifts_pred\"][:, fltr, 0]\n",
    "\n",
    "        errors.append(chemical_shifts_pred - chemical_shifts)\n",
    "\n",
    "        # plot_inference(atom_names, chemical_shifts_pred, chemical_shifts, figsize=(20,16))\n",
    "        # plot_distribution(atom_names, chemical_shifts_pred, [filename], 'Chemical Shifts', figsize=(20,8), overlap_same=False)\n",
    "        # plot_violin(atom_names, [chemical_shifts_pred, chemical_shifts], [filename, filename+'TRUE'], 'Chemical Shifts', figsize=(60,16), overlap_same=False)\n",
    "        # plot_violindist(chemical_shifts_pred, [filename], 'Chemical Shifts', figsize=(20,8))\n",
    "\n",
    "    errors = np.concatenate(errors, axis=-1)\n",
    "    import matplotlib.pyplot as plt\n",
    "\n",
    "    a, b, c = plt.hist(errors[0], bins=40, edgecolor='#e0e0e0', linewidth=0.5, alpha=0.5, label=atoms_filter) # facecolor='#2ab0ff', \n",
    "    plt.vlines(np.abs(errors[0]).mean(), [0], [a.max()], color='k', linestyle='--', lw=1)\n",
    "plt.legend()"
   ]
  }
 ],
 "metadata": {
  "kernelspec": {
   "display_name": "csnet",
   "language": "python",
   "name": "python3"
  },
  "language_info": {
   "codemirror_mode": {
    "name": "ipython",
    "version": 3
   },
   "file_extension": ".py",
   "mimetype": "text/x-python",
   "name": "python",
   "nbconvert_exporter": "python",
   "pygments_lexer": "ipython3",
   "version": "3.10.12"
  },
  "orig_nbformat": 4
 },
 "nbformat": 4,
 "nbformat_minor": 2
}
