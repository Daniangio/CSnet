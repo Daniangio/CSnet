{
 "cells": [
  {
   "cell_type": "code",
   "execution_count": null,
   "metadata": {},
   "outputs": [],
   "source": [
    "import os\n",
    "import glob\n",
    "import pandas as pd\n",
    "import numpy as np\n",
    "from scipy.stats import pearsonr\n",
    "\n",
    "LOGFOLDER = \"logs/\""
   ]
  },
  {
   "cell_type": "code",
   "execution_count": null,
   "metadata": {},
   "outputs": [],
   "source": [
    "for filename in glob.glob(os.path.join(LOGFOLDER, \"**\", \"out.csv\")):\n",
    "\n",
    "    # Load the CSV file\n",
    "    data = pd.read_csv(filename)\n",
    "\n",
    "    # Convert 'pred' and 'ref' columns to float\n",
    "    data['pred'] = pd.to_numeric(data['pred'], errors='coerce')\n",
    "    data['ref'] = pd.to_numeric(data['ref'], errors='coerce')\n",
    "\n",
    "    # Drop rows with NaN values in 'pred' or 'ref' after conversion\n",
    "    filtered_data = data.dropna(subset=['pred', 'ref'])\n",
    "\n",
    "    # Calculate Mean average error\n",
    "    mae = np.mean(np.abs(filtered_data['pred'] - filtered_data['ref']))\n",
    "\n",
    "    # Calculate the Pearson correlation coefficient\n",
    "    correlation, p_value = pearsonr(filtered_data['pred'], filtered_data['ref'])\n",
    "\n",
    "    print(f\"---- {filename} ----\")\n",
    "    print(f\"Mean average error (MAE): {mae}\")\n",
    "    print(f\"Pearson correlation coefficient (R): {correlation}\")\n",
    "    print(f\"P-value: {p_value}\")\n",
    "    print(\"-\" * 38)"
   ]
  },
  {
   "cell_type": "code",
   "execution_count": null,
   "metadata": {},
   "outputs": [],
   "source": []
  }
 ],
 "metadata": {
  "kernelspec": {
   "display_name": "csnet",
   "language": "python",
   "name": "python3"
  },
  "language_info": {
   "codemirror_mode": {
    "name": "ipython",
    "version": 3
   },
   "file_extension": ".py",
   "mimetype": "text/x-python",
   "name": "python",
   "nbconvert_exporter": "python",
   "pygments_lexer": "ipython3",
   "version": "3.10.12"
  }
 },
 "nbformat": 4,
 "nbformat_minor": 2
}
