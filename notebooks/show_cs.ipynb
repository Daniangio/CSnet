{
 "cells": [
  {
   "cell_type": "code",
   "execution_count": 1,
   "metadata": {},
   "outputs": [],
   "source": [
    "%reload_ext autoreload\n",
    "%autoreload 2"
   ]
  },
  {
   "cell_type": "code",
   "execution_count": 2,
   "metadata": {},
   "outputs": [],
   "source": [
    "import torch\n",
    "import numpy as np\n",
    "from csnet.training.dataset import get_structure"
   ]
  },
  {
   "cell_type": "code",
   "execution_count": 35,
   "metadata": {},
   "outputs": [],
   "source": [
    "pdb_file_list =   [\n",
    "    '/storage_common/angiod/A2A/Vincenzo/FAN.pdb',\n",
    "    '/storage_common/angiod/A2A/Vincenzo/pAs.pdb',\n",
    "    '/storage_common/angiod/A2A/Vincenzo/INzma.pdb',\n",
    "]\n",
    "traj_files_list = [\n",
    "    ['/storage_common/angiod/A2A/Vincenzo/FAN_strided.xtc'],\n",
    "    ['/storage_common/angiod/A2A/Vincenzo/pAs_strided.xtc'],\n",
    "    ['/storage_common/angiod/A2A/Vincenzo/INzma_strided.xtc'],\n",
    "]\n",
    "npy_out_list = [\n",
    "    '../temp/cs_FAN.npy',\n",
    "    '../temp/cs_pAs.npy',\n",
    "    '../temp/cs_INzma.npy',\n",
    "]\n",
    "\n",
    "device = \"cuda:2\""
   ]
  },
  {
   "cell_type": "code",
   "execution_count": null,
   "metadata": {},
   "outputs": [],
   "source": [
    "from plot import plot_violin, plot_distribution, plot_violindist\n",
    "\n",
    "atoms_filters = ['ILE_CD1_*',]\n",
    "\n",
    "dataset, _ = get_structure(pdb_file_list[1])\n",
    "for atoms_filter in atoms_filters: \n",
    "    fltr = np.ones_like(dataset['atom_fullnames'], dtype=bool)\n",
    "    res_fltr, atom_fltr, resid_fltr = atoms_filter.split('_')\n",
    "    fltr = fltr * (~np.isin(dataset['atom_resnames'], ['ACE']))\n",
    "    if res_fltr != '*':\n",
    "        fltr = fltr * np.isin(dataset['atom_resnames'], res_fltr.split('-'))\n",
    "    if atom_fltr != '*':\n",
    "        fltr = fltr * np.isin(dataset['atom_names'].flatten(), atom_fltr.split('-'))\n",
    "    if resid_fltr != '*':\n",
    "        fltr = fltr * np.isin(dataset['atom_resnumbers'], [int(x) for x in resid_fltr.split('-')])\n",
    "\n",
    "    atom_names = dataset['atom_fullnames'][fltr]\n",
    "\n",
    "    ds_names = npy_out_list # ['../temp/cs_FAN.npy', '../temp/cs_pAs.npy', '../temp/cs_INzma.npy'][::-1]\n",
    "    cs = []\n",
    "    for ds_name in ds_names:\n",
    "        x = np.load(ds_name)\n",
    "        cs.append(x.reshape(len(x), -1))\n",
    "    chemical_shifts = [x[:, fltr] for x in cs]\n",
    "\n",
    "    # plot_distribution(atom_names, chemical_shifts, ds_names, 'Chemical Shifts', figsize=(20,8), overlap_same=False)\n",
    "    plot_violin(atom_names, chemical_shifts, ds_names, 'Chemical Shifts', overlap_same=True, ylim=None)\n",
    "    # plot_violindist(chemical_shifts, ds_names, 'Chemical Shifts', figsize=(20,8))"
   ]
  }
 ],
 "metadata": {
  "kernelspec": {
   "display_name": "csnet",
   "language": "python",
   "name": "python3"
  },
  "language_info": {
   "codemirror_mode": {
    "name": "ipython",
    "version": 3
   },
   "file_extension": ".py",
   "mimetype": "text/x-python",
   "name": "python",
   "nbconvert_exporter": "python",
   "pygments_lexer": "ipython3",
   "version": "3.10.12"
  },
  "orig_nbformat": 4
 },
 "nbformat": 4,
 "nbformat_minor": 2
}
