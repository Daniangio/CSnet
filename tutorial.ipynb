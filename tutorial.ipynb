{
 "cells": [
  {
   "cell_type": "markdown",
   "metadata": {},
   "source": [
    "# Train Model #"
   ]
  },
  {
   "cell_type": "markdown",
   "metadata": {},
   "source": [
    "To train the CS prediction model, you need to provide a configuration file in YAML format. This file defines the dataset, the model to be used, and various hyperparameters. It also specifies the complete training setup, including the optimizer, learning rate, scheduler, loss function, metrics, and more.\n",
    "\n",
    "Make sure to update the config file with the recommended settings from the previous step, where the training dataset was created.\n",
    "\n",
    "Although this configuration file contains extensive details, for this tutorial, we will use a predefined one that already includes all the necessary information, including the dataset configuration."
   ]
  },
  {
   "cell_type": "code",
   "execution_count": null,
   "metadata": {},
   "outputs": [],
   "source": [
    "def interactive_train():\n",
    "\n",
    "    import os\n",
    "    import torch\n",
    "    import subprocess\n",
    "    import ipywidgets as widgets\n",
    "    from IPython.display import display\n",
    "\n",
    "    # Step 1: Create input widgets\n",
    "    options = []\n",
    "    for root, _, files in os.walk('config', topdown=True):\n",
    "        options.extend([os.path.join(root, f) for f in files])\n",
    "    config_dropdown_w = widgets.Dropdown(\n",
    "        options=options,\n",
    "        description='Training config file in yaml format',\n",
    "        disabled=False,\n",
    "    )\n",
    "\n",
    "    # Step 1: Dynamically check available devices (CPU and multiple GPUs)\n",
    "    device_options = ['cpu']  # Always include 'CPU'\n",
    "\n",
    "    if torch.cuda.is_available():\n",
    "        num_gpus = torch.cuda.device_count()  # Get the number of available GPUs\n",
    "        for i in range(num_gpus):\n",
    "            device_options.append(f'cuda:{i}')  # Add each GPU as 'CUDA:0', 'CUDA:1', etc.\n",
    "\n",
    "    device_dropdown_w = widgets.Dropdown(\n",
    "        options=device_options,\n",
    "        value='cpu',  # Default value\n",
    "        description='Device',\n",
    "        disabled=False,\n",
    "    )\n",
    "\n",
    "    # Button to trigger the script execution\n",
    "    run_button = widgets.Button(description=\"Run Training\")\n",
    "\n",
    "    # Output area to display the results\n",
    "    output_area = widgets.Output()\n",
    "\n",
    "    def run_script(button):\n",
    "        script_name = \"geqtrain-train\"\n",
    "        \n",
    "        # Clear previous output\n",
    "        output_area.clear_output()\n",
    "\n",
    "        # Open the external script using Popen to stream stdout in real-time\n",
    "        try:\n",
    "            # Run the script\n",
    "            with subprocess.Popen(\n",
    "                [\n",
    "                    script_name,\n",
    "                    config_dropdown_w.value,\n",
    "                    \"-d\", device_dropdown_w.value,\n",
    "                ],\n",
    "                stdout=subprocess.PIPE,\n",
    "                stderr=subprocess.STDOUT,\n",
    "                text=True,  # To capture text instead of bytes\n",
    "                bufsize=1  # Line-buffered output\n",
    "            ) as proc:\n",
    "                # Read stdout line by line\n",
    "                for line in proc.stdout:\n",
    "                    with output_area:\n",
    "                        print(line, end='')  # Print each line in the output area\n",
    "\n",
    "        except Exception as e:\n",
    "            with output_area:\n",
    "                print(f\"An error occurred: {e}\")\n",
    "\n",
    "    # Link the button click event to the function\n",
    "    run_button.on_click(run_script)\n",
    "\n",
    "    # Step 2: Display the widgets\n",
    "    display(config_dropdown_w, device_dropdown_w, run_button, output_area)\n",
    "\n",
    "interactive_train()"
   ]
  },
  {
   "cell_type": "markdown",
   "metadata": {},
   "source": [
    "# Run Inference #"
   ]
  },
  {
   "cell_type": "code",
   "execution_count": 3,
   "metadata": {},
   "outputs": [
    {
     "data": {
      "application/vnd.jupyter.widget-view+json": {
       "model_id": "9a3b225f07e4462294af7fc08d805d8c",
       "version_major": 2,
       "version_minor": 0
      },
      "text/plain": [
       "Box(children=(Label(value='Select model:'), RadioButtons(layout=Layout(width='max-content'), options=('Use mod…"
      ]
     },
     "metadata": {},
     "output_type": "display_data"
    },
    {
     "data": {
      "application/vnd.jupyter.widget-view+json": {
       "model_id": "aec31e27364141d7990728c642e4e347",
       "version_major": 2,
       "version_minor": 0
      },
      "text/plain": [
       "Box(children=(Label(value='Training folder:'), Dropdown(options=('-', 'results/SHIFTX2/production', 'results/S…"
      ]
     },
     "metadata": {},
     "output_type": "display_data"
    },
    {
     "data": {
      "application/vnd.jupyter.widget-view+json": {
       "model_id": "6bcd3f3208384c7d8e4a9d6f82cce34c",
       "version_major": 2,
       "version_minor": 0
      },
      "text/plain": [
       "Box(children=(Label(value='Deployed model:'), Text(value='', placeholder='path/to/model')), layout=Layout(disp…"
      ]
     },
     "metadata": {},
     "output_type": "display_data"
    },
    {
     "data": {
      "application/vnd.jupyter.widget-view+json": {
       "model_id": "a35420c21819491485760b5bcb7825b8",
       "version_major": 2,
       "version_minor": 0
      },
      "text/plain": [
       "Box(children=(Label(value='Test dataset:'), RadioButtons(layout=Layout(width='max-content'), options=('From YA…"
      ]
     },
     "metadata": {},
     "output_type": "display_data"
    },
    {
     "data": {
      "application/vnd.jupyter.widget-view+json": {
       "model_id": "d3a8cd13c8e649d08024e1024a3c5a1f",
       "version_major": 2,
       "version_minor": 0
      },
      "text/plain": [
       "Text(value='', description='Topology input file', layout=Layout(display='none'), placeholder='E.g. pdb, gro, t…"
      ]
     },
     "metadata": {},
     "output_type": "display_data"
    },
    {
     "data": {
      "application/vnd.jupyter.widget-view+json": {
       "model_id": "9db632240b8d47c392f4589bd658745c",
       "version_major": 2,
       "version_minor": 0
      },
      "text/plain": [
       "Text(value='', description='Trajectory input file', layout=Layout(display='none'), placeholder='E.g. trr, xtc.…"
      ]
     },
     "metadata": {},
     "output_type": "display_data"
    },
    {
     "data": {
      "application/vnd.jupyter.widget-view+json": {
       "model_id": "bc6543cd60c44ad2a7220ce368c39037",
       "version_major": 2,
       "version_minor": 0
      },
      "text/plain": [
       "Text(value='all', description='Atoms selection', layout=Layout(display='none'), placeholder='E.g. all, protein…"
      ]
     },
     "metadata": {},
     "output_type": "display_data"
    },
    {
     "data": {
      "application/vnd.jupyter.widget-view+json": {
       "model_id": "e297b288d7d1491ea60aad1c85305fdd",
       "version_major": 2,
       "version_minor": 0
      },
      "text/plain": [
       "Box(children=(Label(value='Config:'), Dropdown(layout=Layout(width='max-content'), options=('config/testing/df…"
      ]
     },
     "metadata": {},
     "output_type": "display_data"
    },
    {
     "data": {
      "application/vnd.jupyter.widget-view+json": {
       "model_id": "ad564b40c6874a808a15ad3e63a701ec",
       "version_major": 2,
       "version_minor": 0
      },
      "text/plain": [
       "Dropdown(description='Device', options=('cpu', 'cuda:0', 'cuda:1', 'cuda:2', 'cuda:3'), value='cpu')"
      ]
     },
     "metadata": {},
     "output_type": "display_data"
    },
    {
     "data": {
      "application/vnd.jupyter.widget-view+json": {
       "model_id": "f4fa26e7db6c4536b4ec06661f820ef1",
       "version_major": 2,
       "version_minor": 0
      },
      "text/plain": [
       "Text(value='1', description='Batch Size', placeholder='E.g. 16')"
      ]
     },
     "metadata": {},
     "output_type": "display_data"
    },
    {
     "data": {
      "application/vnd.jupyter.widget-view+json": {
       "model_id": "ac6cfd714df2435d89cd80cc841a9992",
       "version_major": 2,
       "version_minor": 0
      },
      "text/plain": [
       "Button(description='Run Inference', style=ButtonStyle())"
      ]
     },
     "metadata": {},
     "output_type": "display_data"
    },
    {
     "data": {
      "application/vnd.jupyter.widget-view+json": {
       "model_id": "b72c9c0a40e340e385bcfd37e7daee8f",
       "version_major": 2,
       "version_minor": 0
      },
      "text/plain": [
       "Output()"
      ]
     },
     "metadata": {},
     "output_type": "display_data"
    }
   ],
   "source": [
    "def interactive_run_backmapping():\n",
    "\n",
    "    import os\n",
    "    import torch\n",
    "    import subprocess\n",
    "    import ipywidgets as widgets\n",
    "\n",
    "    from csnet.training.dataset import get_structure\n",
    "    from IPython.display import display\n",
    "\n",
    "    model_selection_w = widgets.Box(\n",
    "        [\n",
    "            widgets.Label(value='Select model:'),\n",
    "            widgets.RadioButtons(\n",
    "                options=[\n",
    "                    'Use model from training',\n",
    "                    'Use deployed model'\n",
    "                ],\n",
    "                value='Use model from training',\n",
    "                layout={'width': 'max-content'}\n",
    "            )\n",
    "        ]\n",
    "    )\n",
    "\n",
    "    # Training folder containing config and model\n",
    "    options = ['-']\n",
    "    exclude = ['processed_datasets']\n",
    "    for root, dirs, _ in os.walk('results', topdown=True):\n",
    "        dirs[:] = [d for d in dirs if d not in exclude]\n",
    "        if len(dirs) == 0:\n",
    "            options.append(root)\n",
    "    \n",
    "    traindir_dropdown_w = widgets.Box(\n",
    "        [\n",
    "            widgets.Label(value='Training folder:'),\n",
    "            widgets.Dropdown(\n",
    "                options=options,\n",
    "                value='-',\n",
    "            ),\n",
    "        ],\n",
    "        layout=widgets.Layout(display='block'),\n",
    "    )\n",
    "\n",
    "    # Specify model, either from training folder or deployed model\n",
    "    model_w = widgets.Box(\n",
    "        [\n",
    "            widgets.Label(value='Deployed model:'),\n",
    "            widgets.Text(\n",
    "                value='',\n",
    "                placeholder='path/to/model',\n",
    "            ),\n",
    "        ],\n",
    "        layout=widgets.Layout(display='none'),\n",
    "    )\n",
    "\n",
    "    # Function to enable/disable custom param1 input based on dropdown selection\n",
    "    def on_model_selection_change(change):\n",
    "        if change['new'] == 'Use model from training':\n",
    "            model_w.layout.display = 'none'  # Hide\n",
    "            traindir_dropdown_w.layout.display = 'block'  # Show\n",
    "        elif change['new'] == 'Use deployed model':\n",
    "            traindir_dropdown_w.layout.display = 'none'\n",
    "            model_w.layout.display = 'block'\n",
    "        print(change['new'])\n",
    "    \n",
    "    # Attach the function to handle changes in the radio\n",
    "    model_selection_w.children[1].observe(on_model_selection_change, names='value')\n",
    "\n",
    "    input_dataset_w = widgets.Box(\n",
    "        [\n",
    "            widgets.Label(value='Test dataset:'),\n",
    "            widgets.RadioButtons(\n",
    "                options=['From YAML', 'From topology'],\n",
    "                value='From YAML',\n",
    "                layout={'width': 'max-content'}, # If the items' names are long\n",
    "            ),\n",
    "        ],\n",
    "    )\n",
    "\n",
    "    topology_w = widgets.Text(\n",
    "        value='',\n",
    "        placeholder='E.g. pdb, gro, tpr...',\n",
    "        description='Topology input file',\n",
    "        disabled=False,\n",
    "        layout=widgets.Layout(display='none'),  # Initially hidden\n",
    "    )\n",
    "\n",
    "    trajectory_w = widgets.Text(\n",
    "        value='',\n",
    "        placeholder='E.g. trr, xtc...',\n",
    "        description='Trajectory input file',\n",
    "        disabled=False,\n",
    "        layout=widgets.Layout(display='none'),  # Initially hidden\n",
    "    )\n",
    "\n",
    "    selection_w = widgets.Text(\n",
    "        value='all',\n",
    "        placeholder='E.g. all, protein, resname POPC, ...',\n",
    "        description='Atoms selection',\n",
    "        disabled=False,\n",
    "        layout=widgets.Layout(display='none'),  # Initially hidden\n",
    "    )\n",
    "\n",
    "    # Config for test dataset\n",
    "    options = []\n",
    "    exclude = ['training']\n",
    "    for root, dirs, files in os.walk('config', topdown=True):\n",
    "        dirs[:] = [d for d in dirs if d not in exclude]\n",
    "        options.extend([os.path.join(root, f) for f in files])\n",
    "    \n",
    "    config_w = widgets.Box(\n",
    "        [\n",
    "            widgets.Label(value='Config:'),\n",
    "            widgets.Dropdown(\n",
    "                options=options,\n",
    "                layout={'width': 'max-content'}, # If the items' names are long\n",
    "            ),\n",
    "        ],\n",
    "        layout=widgets.Layout(display='block'),\n",
    "    )\n",
    "\n",
    "    # Device\n",
    "    device_options = ['cpu']  # Always include 'CPU'\n",
    "\n",
    "    if torch.cuda.is_available():\n",
    "        num_gpus = torch.cuda.device_count()  # Get the number of available GPUs\n",
    "        for i in range(num_gpus):\n",
    "            device_options.append(f'cuda:{i}')  # Add each GPU as 'CUDA:0', 'CUDA:1', etc.\n",
    "\n",
    "    device_dropdown_w = widgets.Dropdown(\n",
    "        options=device_options,\n",
    "        value='cpu',  # Default value\n",
    "        description='Device',\n",
    "        disabled=False,\n",
    "    )\n",
    "\n",
    "    # Create a text widget for custom param1 (disabled by default)\n",
    "    batch_size_w = widgets.Text(\n",
    "        value='1',\n",
    "        placeholder='E.g. 16',\n",
    "        description='Batch Size',\n",
    "        disabled=False,  # Start as disabled, only enable if \"Custom\" is selected\n",
    "    )\n",
    "\n",
    "    batch_max_atoms_w = widgets.Text(\n",
    "        value='10000',\n",
    "        placeholder='E.g. 10000',\n",
    "        description='Max atoms per chunk',\n",
    "        disabled=False\n",
    "    )\n",
    "\n",
    "    # Button to trigger the script execution\n",
    "    run_button = widgets.Button(description=\"Run Inference\")\n",
    "\n",
    "    # Output area to display the results\n",
    "    output_area = widgets.Output()\n",
    "\n",
    "    # Function to enable/disable custom param1 input based on dropdown selection\n",
    "    def on_input_dataset_change(change):\n",
    "        if change['new'] == 'From topology':\n",
    "            config_w.layout.display = 'none'      # Hide\n",
    "            topology_w.layout.display = 'block'   # Show\n",
    "            trajectory_w.layout.display = 'block'\n",
    "            selection_w.layout.display = 'block'\n",
    "        else:\n",
    "            topology_w.layout.display = 'none'    # Hide\n",
    "            trajectory_w.layout.display = 'none'\n",
    "            selection_w.layout.display = 'none'\n",
    "            config_w.layout.display = 'block'     # Show\n",
    "\n",
    "    # Attach the function to handle changes in the radio\n",
    "    input_dataset_w.children[1].observe(on_input_dataset_change, names='value')\n",
    "\n",
    "    def run_script(button):\n",
    "        \n",
    "        script_name = \"geqtrain-evaluate\"\n",
    "        \n",
    "        # Clear previous output\n",
    "        output_area.clear_output()\n",
    "\n",
    "        if input_dataset_w.children[1].value == \"From YAML\":\n",
    "            config = config_w.children[1].value\n",
    "        elif input_dataset_w.children[1].value == \"From topology\":\n",
    "            dataset, _ = get_structure(\n",
    "                topology=topology_w.value,\n",
    "                trajectories=[] if len(trajectory_w.value) == 0 else [trajectory_w.value],\n",
    "                selection=None if len(selection_w.value) == 0 else selection_w.value,\n",
    "            )\n",
    "\n",
    "            print(dataset)\n",
    "\n",
    "        # Open the external script using Popen to stream stdout in real-time\n",
    "        try:\n",
    "            # Run the script\n",
    "            args = [\n",
    "                script_name,\n",
    "                \"-tc\", config,\n",
    "                \"-d\", device_dropdown_w.value,\n",
    "                \"-bs\", batch_size_w.value,\n",
    "            ]\n",
    "            if traindir_dropdown_w.children[1].value != '-':\n",
    "                args.extend([\"-td\", traindir_dropdown_w.children[1].value])\n",
    "            if model_w.children[1].value != '':\n",
    "                args.extend([\"-m\", model_w.children[1].value])\n",
    "            with subprocess.Popen(\n",
    "                args=args,\n",
    "                stdout=subprocess.PIPE,\n",
    "                stderr=subprocess.STDOUT,\n",
    "                text=True,  # To capture text instead of bytes\n",
    "                bufsize=1  # Line-buffered output\n",
    "            ) as proc:\n",
    "                # Read stdout line by line\n",
    "                for line in proc.stdout:\n",
    "                    with output_area:\n",
    "                        print(line, end='')  # Print each line in the output area\n",
    "\n",
    "        except Exception as e:\n",
    "            with output_area:\n",
    "                print(f\"An error occurred: {e}\")\n",
    "\n",
    "    # Link the button click event to the function\n",
    "    run_button.on_click(run_script)\n",
    "\n",
    "    # Step 2: Display the widgets\n",
    "    display(\n",
    "        model_selection_w,\n",
    "        traindir_dropdown_w,\n",
    "        model_w,\n",
    "        input_dataset_w,\n",
    "        topology_w,\n",
    "        trajectory_w,\n",
    "        selection_w,\n",
    "        config_w,\n",
    "        device_dropdown_w,\n",
    "        batch_size_w,\n",
    "        run_button,\n",
    "        output_area,\n",
    "    )\n",
    "\n",
    "interactive_run_backmapping()"
   ]
  }
 ],
 "metadata": {
  "kernelspec": {
   "display_name": "csnet",
   "language": "python",
   "name": "python3"
  },
  "language_info": {
   "codemirror_mode": {
    "name": "ipython",
    "version": 3
   },
   "file_extension": ".py",
   "mimetype": "text/x-python",
   "name": "python",
   "nbconvert_exporter": "python",
   "pygments_lexer": "ipython3",
   "version": "3.10.12"
  }
 },
 "nbformat": 4,
 "nbformat_minor": 2
}
