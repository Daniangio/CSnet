{
 "cells": [
  {
   "cell_type": "code",
   "execution_count": 1,
   "metadata": {},
   "outputs": [],
   "source": [
    "%reload_ext autoreload\n",
    "%autoreload 2"
   ]
  },
  {
   "cell_type": "code",
   "execution_count": 2,
   "metadata": {},
   "outputs": [],
   "source": [
    "from csnet.utils.dataset import NMRDatasetBuilder"
   ]
  },
  {
   "cell_type": "code",
   "execution_count": null,
   "metadata": {},
   "outputs": [],
   "source": [
    "# Usage Example\n",
    "if __name__ == \"__main__\":\n",
    "    # Define the path to your YAML config\n",
    "    config_file = \"/storage_common/angiod/nmr/data/atom_type_config.protein+nucleotide.yaml\"\n",
    "\n",
    "    # Initialize the NMRDataset with the config file\n",
    "    dataset_builder = NMRDatasetBuilder(config_file)\n",
    "\n",
    "    # nmr2pdb = [('1KJL', 4909 )]\n",
    "    nmr2pdb = '/storage_common/angiod/nmr/data/BMRB.nmr2pdb.csv'\n",
    "\n",
    "    data_root = '/storage_common/angiod/nmr/bmrb/'\n",
    "\n",
    "    dataset_builder.build(nmr2pdb, max_structures=1, data_root=data_root)\n",
    "    dataset_builder.filter_npz_datasets(data_root=data_root)\n",
    "    dataset_builder.build_statistics(data_root=data_root)\n",
    "    dataset_builder.extract_outliers()\n",
    "    dataset_builder.remove_outliers(data_root=data_root)\n",
    "    dataset_builder.build_statistics(data_root=data_root, rebuild=True)\n",
    "    dataset_builder.build_config_params(data_root=data_root)"
   ]
  },
  {
   "cell_type": "code",
   "execution_count": null,
   "metadata": {},
   "outputs": [],
   "source": [
    "import numpy as np\n",
    "\n",
    "ds=np.load('/storage_common/angiod/nmr/shiftx2/asd/npz/1KJL.4909.npz')\n",
    "for k,v in ds.items():\n",
    "    print(k,v.shape)"
   ]
  }
 ],
 "metadata": {
  "kernelspec": {
   "display_name": "csnet",
   "language": "python",
   "name": "python3"
  },
  "language_info": {
   "codemirror_mode": {
    "name": "ipython",
    "version": 3
   },
   "file_extension": ".py",
   "mimetype": "text/x-python",
   "name": "python",
   "nbconvert_exporter": "python",
   "pygments_lexer": "ipython3",
   "version": "3.10.12"
  }
 },
 "nbformat": 4,
 "nbformat_minor": 2
}
